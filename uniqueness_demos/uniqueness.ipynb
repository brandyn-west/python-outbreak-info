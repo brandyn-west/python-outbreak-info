{
 "cells": [
  {
   "attachments": {},
   "cell_type": "markdown",
   "metadata": {},
   "source": [
    "# Uniqueness Demo\n",
    "---"
   ]
  },
  {
   "attachments": {},
   "cell_type": "markdown",
   "metadata": {},
   "source": [
    "Goal: If a set of SNVs are found in a mixture sequencing dataset, what is the probability that a particular lineage is present?"
   ]
  },
  {
   "cell_type": "code",
   "execution_count": 13,
   "metadata": {},
   "outputs": [],
   "source": [
    "mutations = ['S:A222V']\n",
    "pangolin_lineage = 'b.1.177'\n",
    "location_id = 'USA' # optional"
   ]
  },
  {
   "attachments": {},
   "cell_type": "markdown",
   "metadata": {},
   "source": [
    "To start, it's worth quantifying how often that SNV appears in the lineage of interest, versus all other lineages"
   ]
  },
  {
   "cell_type": "code",
   "execution_count": 14,
   "metadata": {},
   "outputs": [
    {
     "name": "stdout",
     "output_type": "stream",
     "text": [
      "    pangolin_lineage  lineage_count  mutation_count  proportion  \\\n",
      "0             ba.1.1         500053             264    0.000528   \n",
      "1             ay.103         295483             674    0.002281   \n",
      "2              ay.44         252180             268    0.001063   \n",
      "3            b.1.1.7         237896             285    0.001198   \n",
      "4          ba.2.12.1         231938              61    0.000263   \n",
      "..               ...            ...             ...         ...   \n",
      "235       b.1.177.46              1               1    1.000000   \n",
      "236       b.1.177.50              1               1    1.000000   \n",
      "237              xbc              1               1    1.000000   \n",
      "238          xbc.1.1              1               1    1.000000   \n",
      "239            xbc.2              1               1    1.000000   \n",
      "\n",
      "     proportion_ci_lower  proportion_ci_upper  \n",
      "0               0.000467             0.000595  \n",
      "1               0.002114             0.002458  \n",
      "2               0.000941             0.001196  \n",
      "3               0.001065             0.001343  \n",
      "4               0.000203             0.000335  \n",
      "..                   ...                  ...  \n",
      "235             0.146746             0.999614  \n",
      "236             0.146746             0.999614  \n",
      "237             0.146746             0.999614  \n",
      "238             0.146746             0.999614  \n",
      "239             0.146746             0.999614  \n",
      "\n",
      "[240 rows x 6 columns]\n",
      "b.1.177 count: 163\n",
      "non-b.1.177 count: 118324\n"
     ]
    }
   ],
   "source": [
    "import numpy as np\n",
    "import pandas as pd\n",
    "from outbreak_data import outbreak_data\n",
    "from outbreak_tools import outbreak_tools\n",
    "\n",
    "df = outbreak_data.mutations_by_lineage(mutations, location=location_id)\n",
    "\n",
    "lin_count = df.loc[df['pangolin_lineage'] == pangolin_lineage].mutation_count.item()\n",
    "\n",
    "non_lin_count = np.sum(\n",
    "    df.loc[df['pangolin_lineage'] != pangolin_lineage].mutation_count\n",
    ")\n",
    "\n",
    "print(df)\n",
    "print(f'{pangolin_lineage} count: {lin_count}')\n",
    "print(f'non-{pangolin_lineage} count: {non_lin_count}')"
   ]
  },
  {
   "attachments": {},
   "cell_type": "markdown",
   "metadata": {},
   "source": [
    "---\n",
    "Next, we will quantify the uniqueness of the set of mutations to our lineage of interest. To do this, we find the conditional probability of observing our lineage of interest given the set of mutations are present. We accomplish this using Bayes' theorem, where $P(L)$ is the probability of observing a lineage, $P(M)$ is the probabilty of observing all mutations in M in any sequenced genome:\n",
    "$$\n",
    "P(L|M)=\\frac{P(M|L)P(L)}{P(M)} \n",
    "$$\n",
    "---"
   ]
  },
  {
   "cell_type": "code",
   "execution_count": 15,
   "metadata": {},
   "outputs": [
    {
     "name": "stdout",
     "output_type": "stream",
     "text": [
      "    pangolin_lineage  lineage_count  mutation_count  proportion  \\\n",
      "181          b.1.177            172             163    0.947674   \n",
      "\n",
      "     proportion_ci_lower  proportion_ci_upper  \n",
      "181             0.906691             0.973797  \n",
      "------------------------\n",
      "P(M|L): 0.9476744186046512\n",
      "P(L):   0.005461393920350189\n",
      "P(M):   0.029546951891287206\n",
      "------------------------\n",
      "P(L|M): 0.17516606542974836\n"
     ]
    }
   ],
   "source": [
    "P_L_given_M = outbreak_tools.uniqueness(\n",
    "    mutations,\n",
    "    pangolin_lineage,\n",
    "    location=location_id\n",
    ")"
   ]
  },
  {
   "cell_type": "code",
   "execution_count": null,
   "metadata": {},
   "outputs": [],
   "source": []
  }
 ],
 "metadata": {
  "kernelspec": {
   "display_name": "python-outbreak",
   "language": "python",
   "name": "python3"
  },
  "language_info": {
   "codemirror_mode": {
    "name": "ipython",
    "version": 3
   },
   "file_extension": ".py",
   "mimetype": "text/x-python",
   "name": "python",
   "nbconvert_exporter": "python",
   "pygments_lexer": "ipython3",
   "version": "3.11.0"
  },
  "orig_nbformat": 4,
  "vscode": {
   "interpreter": {
    "hash": "0da27ed888ac4269c45c97474bcf8628b3c5530f613e7c4ecae2c8c4d23bb749"
   }
  }
 },
 "nbformat": 4,
 "nbformat_minor": 2
}

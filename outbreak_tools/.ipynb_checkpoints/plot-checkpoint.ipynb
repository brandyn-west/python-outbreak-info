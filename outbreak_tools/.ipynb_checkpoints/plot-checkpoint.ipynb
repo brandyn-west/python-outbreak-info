{
 "cells": [
  {
   "cell_type": "code",
   "execution_count": null,
   "id": "124d7ae6",
   "metadata": {},
   "outputs": [],
   "source": [
    "# Plots the numIncrease feature \n",
    "# Locations // string or list of strings\n",
    "# rolling_by // if None, plots raw data\n",
    "# rolling_by // if a #, plots feature when rolled by #\n",
    "def numIncrease(locations, rolling_by = None):\n",
    "    "
   ]
  }
 ],
 "metadata": {
  "kernelspec": {
   "display_name": "Python 3",
   "language": "python",
   "name": "python3"
  },
  "language_info": {
   "codemirror_mode": {
    "name": "ipython",
    "version": 3
   },
   "file_extension": ".py",
   "mimetype": "text/x-python",
   "name": "python",
   "nbconvert_exporter": "python",
   "pygments_lexer": "ipython3",
   "version": "3.7.10"
  }
 },
 "nbformat": 4,
 "nbformat_minor": 5
}

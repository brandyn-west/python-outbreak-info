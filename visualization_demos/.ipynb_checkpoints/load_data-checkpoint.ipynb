{
 "cells": [
  {
   "cell_type": "code",
   "execution_count": 1,
   "id": "901f2f22",
   "metadata": {},
   "outputs": [],
   "source": [
    "import outbreak_common"
   ]
  },
  {
   "cell_type": "code",
   "execution_count": 2,
   "id": "8b7c3edb",
   "metadata": {},
   "outputs": [],
   "source": [
    "co = outbreak_common.cases_by_location('(\"USA_US-CO\", \"USA_US-WA\")')"
   ]
  },
  {
   "cell_type": "code",
   "execution_count": 10,
   "id": "b8498a6c",
   "metadata": {},
   "outputs": [],
   "source": [
    "def get_multiple_states(state_list):\n",
    "    out = []\n",
    "    for state in state_list:\n",
    "        data = outbreak_common.cases_by_location(state)\n",
    "        out.append(data)\n",
    "    return pd.concat(out)"
   ]
  },
  {
   "cell_type": "code",
   "execution_count": null,
   "id": "473753f0",
   "metadata": {},
   "outputs": [],
   "source": [
    "wild_states = "
   ]
  }
 ],
 "metadata": {
  "kernelspec": {
   "display_name": "Python 3",
   "language": "python",
   "name": "python3"
  },
  "language_info": {
   "codemirror_mode": {
    "name": "ipython",
    "version": 3
   },
   "file_extension": ".py",
   "mimetype": "text/x-python",
   "name": "python",
   "nbconvert_exporter": "python",
   "pygments_lexer": "ipython3",
   "version": "3.7.10"
  }
 },
 "nbformat": 4,
 "nbformat_minor": 5
}

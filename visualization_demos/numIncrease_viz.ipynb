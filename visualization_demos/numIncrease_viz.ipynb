{
 "cells": [
  {
   "cell_type": "code",
   "execution_count": 1,
   "id": "a23179fc",
   "metadata": {
    "pycharm": {
     "name": "#%%\n"
    }
   },
   "outputs": [],
   "source": [
    "import pandas as pd\n",
    "import os\n",
    "import sys\n",
    "import altair as alt\n",
    "data_path = os.path.abspath('../outbreak_data')\n",
    "sys.path.append(data_path)\n",
    "import outbreak_common"
   ]
  },
  {
   "cell_type": "code",
   "execution_count": 2,
   "id": "6746d1e9",
   "metadata": {
    "pycharm": {
     "name": "#%%\n"
    }
   },
   "outputs": [],
   "source": [
    "states = pd.read_csv('camping_states.csv') "
   ]
  },
  {
   "cell_type": "code",
   "execution_count": 3,
   "id": "6edb29e4",
   "metadata": {
    "pycharm": {
     "name": "#%%\n"
    }
   },
   "outputs": [],
   "source": [
    "# rolling_average, weekly // adding a column to the df which contains the running mean of numIncrease\n",
    "num_days = 7\n",
    "# groupby // since we have multiple states, we need to group by locality so the running_average is \n",
    "# calculated individiually\n",
    "\n",
    "rolling_states = []\n",
    "\n",
    "for state, data, in states.groupby('admin1'):\n",
    "    col_name = 'confirmed_numIncrease_%rdayRolling'%num_days\n",
    "    \n",
    "    data[col_name] = outbreak_common.rolling_average(data.confirmed_numIncrease, num_days)\n",
    "    rolling_states.append(data)"
   ]
  },
  {
   "cell_type": "code",
   "execution_count": 4,
   "id": "ec6f937b",
   "metadata": {
    "pycharm": {
     "name": "#%%\n"
    }
   },
   "outputs": [],
   "source": [
    "rolling_states = pd.concat(rolling_states)"
   ]
  },
  {
   "cell_type": "code",
   "execution_count": 5,
   "id": "907d1303",
   "metadata": {
    "pycharm": {
     "name": "#%%\n"
    }
   },
   "outputs": [],
   "source": [
    "# pd.to_datetime // applying to_datetime will allow numpy to sort the dates for visualization\n",
    "rolling_states['date'] = rolling_states['date'].apply(pd.to_datetime)"
   ]
  },
  {
   "cell_type": "code",
   "execution_count": 6,
   "id": "ff06db4c",
   "metadata": {
    "pycharm": {
     "name": "#%%\n"
    }
   },
   "outputs": [],
   "source": [
    "# reset_index // resetting the index since groupby split and reindexed by state\n",
    "rolling_states.reset_index(drop=True, inplace=True)"
   ]
  },
  {
   "cell_type": "code",
   "execution_count": 7,
   "id": "aea8d710",
   "metadata": {
    "pycharm": {
     "name": "#%%\n"
    }
   },
   "outputs": [],
   "source": [
    "# to_json // writing the data in json format for quick visualization\n",
    "url = 'rolling_viz.json'\n",
    "rolling_states.to_json(url, orient='records')"
   ]
  },
  {
   "cell_type": "code",
   "execution_count": 8,
   "id": "72efc378",
   "metadata": {
    "pycharm": {
     "name": "#%%\n"
    }
   },
   "outputs": [],
   "source": [
    "# 7-day rolled (avg) feature viz // avg new amount of covid cases, per 7 days\n",
    "rolling = alt.Chart(url).mark_line().encode(\n",
    "    x='date:T',\n",
    "    y='confirmed_numIncrease_7dayRolling:Q',\n",
    "    color='admin1:N'\n",
    ").interactive()"
   ]
  },
  {
   "cell_type": "code",
   "execution_count": 9,
   "id": "0bc8e22a",
   "metadata": {
    "pycharm": {
     "name": "#%%\n"
    }
   },
   "outputs": [],
   "source": [
    "# base feature viz // amount of new covid cases\n",
    "base = alt.Chart(url).mark_line().encode(\n",
    "    x='date:T',\n",
    "    y='confirmed_numIncrease:Q',\n",
    "    color='admin1:N'\n",
    ").interactive()"
   ]
  },
  {
   "cell_type": "markdown",
   "id": "ffc00f46",
   "metadata": {
    "pycharm": {
     "name": "#%% md\n"
    }
   },
   "source": [
    "### Understanding popular space/time loci of 'Camping/Outdoors/Recreational' trips\n",
    "Colorado\n",
    " - https://oedit.colorado.gov/sites/coedit/files/2021-08/2020_longwoods_travel_usa_colorado_report_1.pdf\n",
    " - Popular seasons: Sep-Dec(29%), July-Sep(28%), Jan-Mar(25%) Apr-Jun(18%) "
   ]
  },
  {
   "cell_type": "code",
   "execution_count": 10,
   "id": "b0d5c13d",
   "metadata": {
    "pycharm": {
     "name": "#%%\n"
    }
   },
   "outputs": [],
   "source": [
    "# rules // added dates of popular tourism dates\n",
    "rules = alt.Chart(pd.DataFrame({\n",
    "  'date': ['2022-9-01', '2021-09-01', '2020-09-01'],\n",
    "  'color': ['black', 'black', 'black']\n",
    "})).mark_rule().encode(\n",
    "  x='date:T',\n",
    "  color=alt.Color('color:N', scale=None)\n",
    ")"
   ]
  },
  {
   "cell_type": "markdown",
   "id": "0a0a232e",
   "metadata": {
    "pycharm": {
     "name": "#%% md\n"
    }
   },
   "source": [
    "#### Plot of numIncrease vs  numIncrease_7dayRolling (confirmed cases)"
   ]
  },
  {
   "cell_type": "code",
   "execution_count": 11,
   "id": "0abe247a",
   "metadata": {
    "pycharm": {
     "name": "#%%\n"
    }
   },
   "outputs": [
    {
     "data": {
      "text/html": [
       "\n",
       "<div id=\"altair-viz-bd950e6dba0a4d5e8db7dfb53559429c\"></div>\n",
       "<script type=\"text/javascript\">\n",
       "  (function(spec, embedOpt){\n",
       "    let outputDiv = document.currentScript.previousElementSibling;\n",
       "    if (outputDiv.id !== \"altair-viz-bd950e6dba0a4d5e8db7dfb53559429c\") {\n",
       "      outputDiv = document.getElementById(\"altair-viz-bd950e6dba0a4d5e8db7dfb53559429c\");\n",
       "    }\n",
       "    const paths = {\n",
       "      \"vega\": \"https://cdn.jsdelivr.net/npm//vega@5?noext\",\n",
       "      \"vega-lib\": \"https://cdn.jsdelivr.net/npm//vega-lib?noext\",\n",
       "      \"vega-lite\": \"https://cdn.jsdelivr.net/npm//vega-lite@4.8.1?noext\",\n",
       "      \"vega-embed\": \"https://cdn.jsdelivr.net/npm//vega-embed@6?noext\",\n",
       "    };\n",
       "\n",
       "    function loadScript(lib) {\n",
       "      return new Promise(function(resolve, reject) {\n",
       "        var s = document.createElement('script');\n",
       "        s.src = paths[lib];\n",
       "        s.async = true;\n",
       "        s.onload = () => resolve(paths[lib]);\n",
       "        s.onerror = () => reject(`Error loading script: ${paths[lib]}`);\n",
       "        document.getElementsByTagName(\"head\")[0].appendChild(s);\n",
       "      });\n",
       "    }\n",
       "\n",
       "    function showError(err) {\n",
       "      outputDiv.innerHTML = `<div class=\"error\" style=\"color:red;\">${err}</div>`;\n",
       "      throw err;\n",
       "    }\n",
       "\n",
       "    function displayChart(vegaEmbed) {\n",
       "      vegaEmbed(outputDiv, spec, embedOpt)\n",
       "        .catch(err => showError(`Javascript Error: ${err.message}<br>This usually means there's a typo in your chart specification. See the javascript console for the full traceback.`));\n",
       "    }\n",
       "\n",
       "    if(typeof define === \"function\" && define.amd) {\n",
       "      requirejs.config({paths});\n",
       "      require([\"vega-embed\"], displayChart, err => showError(`Error loading script: ${err.message}`));\n",
       "    } else if (typeof vegaEmbed === \"function\") {\n",
       "      displayChart(vegaEmbed);\n",
       "    } else {\n",
       "      loadScript(\"vega\")\n",
       "        .then(() => loadScript(\"vega-lite\"))\n",
       "        .then(() => loadScript(\"vega-embed\"))\n",
       "        .catch(showError)\n",
       "        .then(() => displayChart(vegaEmbed));\n",
       "    }\n",
       "  })({\"config\": {\"view\": {\"continuousWidth\": 400, \"continuousHeight\": 300}}, \"hconcat\": [{\"layer\": [{\"data\": {\"name\": \"data-7a2d5c5f8bb315f13e04ab9d39782dc7\"}, \"mark\": \"rule\", \"encoding\": {\"color\": {\"type\": \"nominal\", \"field\": \"color\", \"scale\": null}, \"x\": {\"type\": \"temporal\", \"field\": \"date\"}}}, {\"data\": {\"url\": \"rolling_viz.json\"}, \"mark\": \"line\", \"encoding\": {\"color\": {\"type\": \"nominal\", \"field\": \"admin1\"}, \"x\": {\"type\": \"temporal\", \"field\": \"date\"}, \"y\": {\"type\": \"quantitative\", \"field\": \"confirmed_numIncrease\"}}, \"selection\": {\"selector002\": {\"type\": \"interval\", \"bind\": \"scales\", \"encodings\": [\"x\", \"y\"]}}}]}, {\"layer\": [{\"data\": {\"name\": \"data-7a2d5c5f8bb315f13e04ab9d39782dc7\"}, \"mark\": \"rule\", \"encoding\": {\"color\": {\"type\": \"nominal\", \"field\": \"color\", \"scale\": null}, \"x\": {\"type\": \"temporal\", \"field\": \"date\"}}}, {\"data\": {\"url\": \"rolling_viz.json\"}, \"mark\": \"line\", \"encoding\": {\"color\": {\"type\": \"nominal\", \"field\": \"admin1\"}, \"x\": {\"type\": \"temporal\", \"field\": \"date\"}, \"y\": {\"type\": \"quantitative\", \"field\": \"confirmed_numIncrease_7dayRolling\"}}, \"selection\": {\"selector001\": {\"type\": \"interval\", \"bind\": \"scales\", \"encodings\": [\"x\", \"y\"]}}}]}], \"$schema\": \"https://vega.github.io/schema/vega-lite/v4.8.1.json\", \"datasets\": {\"data-7a2d5c5f8bb315f13e04ab9d39782dc7\": [{\"date\": \"2022-9-01\", \"color\": \"black\"}, {\"date\": \"2021-09-01\", \"color\": \"black\"}, {\"date\": \"2020-09-01\", \"color\": \"black\"}]}}, {\"mode\": \"vega-lite\"});\n",
       "</script>"
      ],
      "text/plain": [
       "alt.HConcatChart(...)"
      ]
     },
     "execution_count": 11,
     "metadata": {},
     "output_type": "execute_result"
    }
   ],
   "source": [
    "(rules + base) | (rules + rolling)"
   ]
  },
  {
   "cell_type": "code",
   "execution_count": null,
   "id": "576819ea",
   "metadata": {
    "pycharm": {
     "name": "#%%\n"
    }
   },
   "outputs": [],
   "source": []
  },
  {
   "cell_type": "code",
   "execution_count": null,
   "id": "636de57a",
   "metadata": {
    "pycharm": {
     "name": "#%%\n"
    }
   },
   "outputs": [],
   "source": []
  }
 ],
 "metadata": {
  "kernelspec": {
   "display_name": "Python 3",
   "language": "python",
   "name": "python3"
  },
  "language_info": {
   "codemirror_mode": {
    "name": "ipython",
    "version": 3
   },
   "file_extension": ".py",
   "mimetype": "text/x-python",
   "name": "python",
   "nbconvert_exporter": "python",
   "pygments_lexer": "ipython3",
   "version": "3.7.10"
  }
 },
 "nbformat": 4,
 "nbformat_minor": 5
}

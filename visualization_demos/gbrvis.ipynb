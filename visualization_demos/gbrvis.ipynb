{
 "cells": [
  {
   "cell_type": "code",
   "execution_count": 1,
   "id": "fac466e4-8286-4e77-8054-02bbbb645703",
   "metadata": {},
   "outputs": [],
   "source": [
    "import requests\n",
    "\n",
    "server = 'api.outbreak.info' # or 'dev.outbreak.info'\n",
    "auth = 'Bearer 0ed52bbfb6c79d1fd8e9c6f267f9b6311c885a4c4c6f037d6ab7b3a40d586ad0' # keep this private!\n",
    "nopage = 'fetch_all=true&page=0' # worth verifying that this works with newer ES versions as well\n",
    "\n",
    "def get_outbreak_data(endpoint, argstring, server=server, auth=auth):\n",
    "    auth = {'Authorization': str(auth)}\n",
    "    return requests.get(f'https://{server}/{endpoint}?q={argstring}', headers=auth)"
   ]
  },
  {
   "cell_type": "code",
   "execution_count": 2,
   "id": "7b0ce5bf-efd4-42af-a66a-00a84731d29d",
   "metadata": {},
   "outputs": [],
   "source": [
    "location = 'GBR'\n",
    "data = get_outbreak_data('covid19/query', f\"location_id:{location}&sort=date&fields=date,confirmed_numIncrease&{nopage}\")"
   ]
  },
  {
   "cell_type": "code",
   "execution_count": 4,
   "id": "7fa0d0b1-ae5c-47a7-b6bb-829f009d0a8f",
   "metadata": {},
   "outputs": [],
   "source": [
    "import pandas as pd \n",
    "raw=data.json()[\"hits\"]"
   ]
  },
  {
   "cell_type": "code",
   "execution_count": 27,
   "id": "6a3b6a67-d4e4-46e9-ac65-434dd6d0950e",
   "metadata": {},
   "outputs": [],
   "source": [
    "import sys\n",
    "sys.path.append('..')\n",
    "from outbreak_data import *"
   ]
  },
  {
   "cell_type": "code",
   "execution_count": 36,
   "id": "bba6eafe-b98e-4205-90fa-3021463d22b0",
   "metadata": {},
   "outputs": [
    {
     "data": {
      "text/html": [
       "<div>\n",
       "<style scoped>\n",
       "    .dataframe tbody tr th:only-of-type {\n",
       "        vertical-align: middle;\n",
       "    }\n",
       "\n",
       "    .dataframe tbody tr th {\n",
       "        vertical-align: top;\n",
       "    }\n",
       "\n",
       "    .dataframe thead th {\n",
       "        text-align: right;\n",
       "    }\n",
       "</style>\n",
       "<table border=\"1\" class=\"dataframe\">\n",
       "  <thead>\n",
       "    <tr style=\"text-align: right;\">\n",
       "      <th></th>\n",
       "      <th>_id</th>\n",
       "      <th>confirmed_numIncrease</th>\n",
       "      <th>date</th>\n",
       "    </tr>\n",
       "  </thead>\n",
       "  <tbody>\n",
       "    <tr>\n",
       "      <th>0</th>\n",
       "      <td>GBR_None_None2020-04-14</td>\n",
       "      <td>4325</td>\n",
       "      <td>2020-04-14</td>\n",
       "    </tr>\n",
       "    <tr>\n",
       "      <th>1</th>\n",
       "      <td>GBR_None_None2020-04-27</td>\n",
       "      <td>4702</td>\n",
       "      <td>2020-04-27</td>\n",
       "    </tr>\n",
       "    <tr>\n",
       "      <th>2</th>\n",
       "      <td>GBR_None_None2020-05-06</td>\n",
       "      <td>3831</td>\n",
       "      <td>2020-05-06</td>\n",
       "    </tr>\n",
       "    <tr>\n",
       "      <th>3</th>\n",
       "      <td>GBR_None_None2020-05-07</td>\n",
       "      <td>3767</td>\n",
       "      <td>2020-05-07</td>\n",
       "    </tr>\n",
       "    <tr>\n",
       "      <th>4</th>\n",
       "      <td>GBR_None_None2020-05-08</td>\n",
       "      <td>3049</td>\n",
       "      <td>2020-05-08</td>\n",
       "    </tr>\n",
       "    <tr>\n",
       "      <th>...</th>\n",
       "      <td>...</td>\n",
       "      <td>...</td>\n",
       "      <td>...</td>\n",
       "    </tr>\n",
       "    <tr>\n",
       "      <th>857</th>\n",
       "      <td>GBR_None_None2022-05-13</td>\n",
       "      <td>6587</td>\n",
       "      <td>2022-05-13</td>\n",
       "    </tr>\n",
       "    <tr>\n",
       "      <th>858</th>\n",
       "      <td>GBR_None_None2022-05-14</td>\n",
       "      <td>0</td>\n",
       "      <td>2022-05-14</td>\n",
       "    </tr>\n",
       "    <tr>\n",
       "      <th>859</th>\n",
       "      <td>GBR_None_None2022-05-15</td>\n",
       "      <td>0</td>\n",
       "      <td>2022-05-15</td>\n",
       "    </tr>\n",
       "    <tr>\n",
       "      <th>860</th>\n",
       "      <td>GBR_None_None2022-06-06</td>\n",
       "      <td>33053</td>\n",
       "      <td>2022-06-06</td>\n",
       "    </tr>\n",
       "    <tr>\n",
       "      <th>861</th>\n",
       "      <td>GBR_None_None2022-06-09</td>\n",
       "      <td>10079</td>\n",
       "      <td>2022-06-09</td>\n",
       "    </tr>\n",
       "  </tbody>\n",
       "</table>\n",
       "<p>862 rows × 3 columns</p>\n",
       "</div>"
      ],
      "text/plain": [
       "                         _id  confirmed_numIncrease        date\n",
       "0    GBR_None_None2020-04-14                   4325  2020-04-14\n",
       "1    GBR_None_None2020-04-27                   4702  2020-04-27\n",
       "2    GBR_None_None2020-05-06                   3831  2020-05-06\n",
       "3    GBR_None_None2020-05-07                   3767  2020-05-07\n",
       "4    GBR_None_None2020-05-08                   3049  2020-05-08\n",
       "..                       ...                    ...         ...\n",
       "857  GBR_None_None2022-05-13                   6587  2022-05-13\n",
       "858  GBR_None_None2022-05-14                      0  2022-05-14\n",
       "859  GBR_None_None2022-05-15                      0  2022-05-15\n",
       "860  GBR_None_None2022-06-06                  33053  2022-06-06\n",
       "861  GBR_None_None2022-06-09                  10079  2022-06-09\n",
       "\n",
       "[862 rows x 3 columns]"
      ]
     },
     "execution_count": 36,
     "metadata": {},
     "output_type": "execute_result"
    }
   ],
   "source": [
    "tableGBR=outbreak_data.cases_by_location('GBR')\n",
    "tableGBR.drop(columns=['_score', 'admin1'], axis=1"
   ]
  },
  {
   "cell_type": "code",
   "execution_count": 35,
   "id": "759051b7-3481-4afa-8825-7a6270a2c07b",
   "metadata": {},
   "outputs": [
    {
     "data": {
      "text/plain": [
       "<AxesSubplot:title={'center':'Number of Cases Over Time'}, xlabel='Date', ylabel='Number of Cases'>"
      ]
     },
     "execution_count": 35,
     "metadata": {},
     "output_type": "execute_result"
    },
    {
     "data": {
      "image/png": "[encoded data removed]",
      "text/plain": [
       "<Figure size 432x288 with 1 Axes>"
      ]
     },
     "metadata": {
      "needs_background": "light"
     },
     "output_type": "display_data"
    }
   ],
   "source": [
    "tableGBR.sort_values(by=\"date\")\n",
    "tableGBR.plot.line(x='date', y='confirmed_numIncrease', title='Number of Cases Over Time', xlabel='Date', ylabel='Number of Cases')\n"
   ]
  },
  {
   "cell_type": "code",
   "execution_count": 45,
   "id": "9c287216-8793-4181-a48f-43d3a15a2ec2",
   "metadata": {},
   "outputs": [
    {
     "data": {
      "text/plain": [
       "<AxesSubplot:title={'center':'Number of Cases Over Time'}, xlabel='Date', ylabel='Number of Cases'>"
      ]
     },
     "execution_count": 45,
     "metadata": {},
     "output_type": "execute_result"
    },
    {
     "data": {
      "image/png": "[encoded data removed]",
      "text/plain": [
       "<Figure size 432x288 with 1 Axes>"
      ]
     },
     "metadata": {
      "needs_background": "light"
     },
     "output_type": "display_data"
    }
   ],
   "source": [
    "tableGBR['month_year'] = pd.to_datetime(tableGBR['date']).dt.to_period('M')\n",
    "tableGBR.plot.line(x='month_year', y='confirmed_numIncrease', title='Number of Cases Over Time', xlabel='Date', ylabel='Number of Cases')\n"
   ]
  },
  {
   "cell_type": "code",
   "execution_count": null,
   "id": "916a49f0-458a-4448-81a3-a77647ebf03b",
   "metadata": {},
   "outputs": [],
   "source": []
  }
 ],
 "metadata": {
  "kernelspec": {
   "display_name": "Python 3 (ipykernel)",
   "language": "python",
   "name": "python3"
  },
  "language_info": {
   "codemirror_mode": {
    "name": "ipython",
    "version": 3
   },
   "file_extension": ".py",
   "mimetype": "text/x-python",
   "name": "python",
   "nbconvert_exporter": "python",
   "pygments_lexer": "ipython3",
   "version": "3.10.4"
  }
 },
 "nbformat": 4,
 "nbformat_minor": 5
}

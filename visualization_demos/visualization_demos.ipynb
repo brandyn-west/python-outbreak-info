{
 "cells": [
  {
   "cell_type": "code",
   "execution_count": 1,
   "id": "13d54fca",
   "metadata": {
    "pycharm": {
     "name": "#%%\n"
    }
   },
   "outputs": [],
   "source": [
    "import pandas as pd\n",
    "import altair as alt\n",
    "from outbreak_data import outbreak_data"
   ]
  },
  {
   "cell_type": "code",
   "execution_count": 2,
   "outputs": [],
   "source": [
    "from outbreak_tools import outbreak_tools"
   ],
   "metadata": {
    "collapsed": false,
    "pycharm": {
     "name": "#%%\n"
    }
   }
  },
  {
   "cell_type": "code",
   "execution_count": 3,
   "outputs": [],
   "source": [
    "state_list = ['USA_US-WA', 'USA_US-CO', 'USA_US-MN', 'USA_US-LA']\n",
    "states = '(' + \" OR \".join(state_list) + ')'"
   ],
   "metadata": {
    "collapsed": false,
    "pycharm": {
     "name": "#%%\n"
    }
   }
  },
  {
   "cell_type": "code",
   "execution_count": 4,
   "outputs": [
    {
     "data": {
      "text/plain": "'(USA_US-WA OR USA_US-CO OR USA_US-MN OR USA_US-LA)'"
     },
     "execution_count": 4,
     "metadata": {},
     "output_type": "execute_result"
    }
   ],
   "source": [
    "states"
   ],
   "metadata": {
    "collapsed": false,
    "pycharm": {
     "name": "#%%\n"
    }
   }
  },
  {
   "cell_type": "code",
   "execution_count": 5,
   "outputs": [],
   "source": [
    "nopage = 'fetch_all=true&page=0'\n",
    "covid19_endpoint = 'covid19/query'\n",
    "args = f'q=location_id:{states}&sort=date&fields=date,confirmed_numIncrease,admin1&{nopage}'\n",
    "df = outbreak_data.get_outbreak_data(covid19_endpoint, args, collect_all=True)"
   ],
   "metadata": {
    "collapsed": false,
    "pycharm": {
     "name": "#%%\n"
    }
   }
  },
  {
   "cell_type": "code",
   "execution_count": 6,
   "outputs": [],
   "source": [
    "data = outbreak_data.cases_by_location(states)"
   ],
   "metadata": {
    "collapsed": false,
    "pycharm": {
     "name": "#%%\n"
    }
   }
  },
  {
   "cell_type": "code",
   "execution_count": 8,
   "outputs": [
    {
     "data": {
      "text/plain": "                                _id    _score      admin1  \\\n0      USA_Minnesota_None2020-02-12  8.447602   Minnesota   \n1       USA_Colorado_None2020-02-12  8.387950    Colorado   \n2      USA_Louisiana_None2020-02-12  8.414929   Louisiana   \n3     USA_Washington_None2020-02-12  8.428698  Washington   \n4      USA_Minnesota_None2020-02-13  8.474809   Minnesota   \n...                             ...       ...         ...   \n3495   USA_Minnesota_None2022-07-04  8.447602   Minnesota   \n3496  USA_Washington_None2022-07-05  8.435659  Washington   \n3497   USA_Louisiana_None2022-07-05  8.414929   Louisiana   \n3498    USA_Colorado_None2022-07-05  8.387950    Colorado   \n3499   USA_Minnesota_None2022-07-05  8.332916   Minnesota   \n\n      confirmed_numIncrease       date  \n0                         0 2020-02-12  \n1                         0 2020-02-12  \n2                         0 2020-02-12  \n3                         0 2020-02-12  \n4                         0 2020-02-13  \n...                     ...        ...  \n3495                      0 2022-07-04  \n3496                      0 2022-07-05  \n3497                   4532 2022-07-05  \n3498                    994 2022-07-05  \n3499                      0 2022-07-05  \n\n[3500 rows x 5 columns]",
      "text/html": "<div>\n<style scoped>\n    .dataframe tbody tr th:only-of-type {\n        vertical-align: middle;\n    }\n\n    .dataframe tbody tr th {\n        vertical-align: top;\n    }\n\n    .dataframe thead th {\n        text-align: right;\n    }\n</style>\n<table border=\"1\" class=\"dataframe\">\n  <thead>\n    <tr style=\"text-align: right;\">\n      <th></th>\n      <th>_id</th>\n      <th>_score</th>\n      <th>admin1</th>\n      <th>confirmed_numIncrease</th>\n      <th>date</th>\n    </tr>\n  </thead>\n  <tbody>\n    <tr>\n      <th>0</th>\n      <td>USA_Minnesota_None2020-02-12</td>\n      <td>8.447602</td>\n      <td>Minnesota</td>\n      <td>0</td>\n      <td>2020-02-12</td>\n    </tr>\n    <tr>\n      <th>1</th>\n      <td>USA_Colorado_None2020-02-12</td>\n      <td>8.387950</td>\n      <td>Colorado</td>\n      <td>0</td>\n      <td>2020-02-12</td>\n    </tr>\n    <tr>\n      <th>2</th>\n      <td>USA_Louisiana_None2020-02-12</td>\n      <td>8.414929</td>\n      <td>Louisiana</td>\n      <td>0</td>\n      <td>2020-02-12</td>\n    </tr>\n    <tr>\n      <th>3</th>\n      <td>USA_Washington_None2020-02-12</td>\n      <td>8.428698</td>\n      <td>Washington</td>\n      <td>0</td>\n      <td>2020-02-12</td>\n    </tr>\n    <tr>\n      <th>4</th>\n      <td>USA_Minnesota_None2020-02-13</td>\n      <td>8.474809</td>\n      <td>Minnesota</td>\n      <td>0</td>\n      <td>2020-02-13</td>\n    </tr>\n    <tr>\n      <th>...</th>\n      <td>...</td>\n      <td>...</td>\n      <td>...</td>\n      <td>...</td>\n      <td>...</td>\n    </tr>\n    <tr>\n      <th>3495</th>\n      <td>USA_Minnesota_None2022-07-04</td>\n      <td>8.447602</td>\n      <td>Minnesota</td>\n      <td>0</td>\n      <td>2022-07-04</td>\n    </tr>\n    <tr>\n      <th>3496</th>\n      <td>USA_Washington_None2022-07-05</td>\n      <td>8.435659</td>\n      <td>Washington</td>\n      <td>0</td>\n      <td>2022-07-05</td>\n    </tr>\n    <tr>\n      <th>3497</th>\n      <td>USA_Louisiana_None2022-07-05</td>\n      <td>8.414929</td>\n      <td>Louisiana</td>\n      <td>4532</td>\n      <td>2022-07-05</td>\n    </tr>\n    <tr>\n      <th>3498</th>\n      <td>USA_Colorado_None2022-07-05</td>\n      <td>8.387950</td>\n      <td>Colorado</td>\n      <td>994</td>\n      <td>2022-07-05</td>\n    </tr>\n    <tr>\n      <th>3499</th>\n      <td>USA_Minnesota_None2022-07-05</td>\n      <td>8.332916</td>\n      <td>Minnesota</td>\n      <td>0</td>\n      <td>2022-07-05</td>\n    </tr>\n  </tbody>\n</table>\n<p>3500 rows × 5 columns</p>\n</div>"
     },
     "execution_count": 8,
     "metadata": {},
     "output_type": "execute_result"
    }
   ],
   "source": [
    "data"
   ],
   "metadata": {
    "collapsed": false,
    "pycharm": {
     "name": "#%%\n"
    }
   }
  },
  {
   "cell_type": "code",
   "execution_count": 9,
   "outputs": [
    {
     "data": {
      "text/plain": "                                _id    _score      admin1  \\\n1940    USA_Colorado_None2021-06-11  8.414929    Colorado   \n1941   USA_Minnesota_None2021-06-11  8.332916   Minnesota   \n1942  USA_Washington_None2021-06-11  8.435659  Washington   \n1943   USA_Louisiana_None2021-06-11  8.414929   Louisiana   \n1944    USA_Colorado_None2021-06-12  8.447602    Colorado   \n1945   USA_Louisiana_None2021-06-12  8.471187   Louisiana   \n1946   USA_Minnesota_None2021-06-12  8.474809   Minnesota   \n1947  USA_Washington_None2021-06-12  8.435659  Washington   \n1948   USA_Louisiana_None2021-06-13  8.471187   Louisiana   \n1949    USA_Colorado_None2021-06-13  8.387950    Colorado   \n1950  USA_Washington_None2021-06-13  8.386045  Washington   \n1951   USA_Minnesota_None2021-06-13  8.447602   Minnesota   \n1952   USA_Louisiana_None2021-06-14  8.366340   Louisiana   \n1953    USA_Colorado_None2021-06-14  8.447602    Colorado   \n1954   USA_Minnesota_None2021-06-14  8.447602   Minnesota   \n1955  USA_Washington_None2021-06-14  8.435659  Washington   \n1956   USA_Minnesota_None2021-06-15  8.447602   Minnesota   \n1957   USA_Louisiana_None2021-06-15  8.414929   Louisiana   \n1958    USA_Colorado_None2021-06-15  8.414929    Colorado   \n1959  USA_Washington_None2021-06-15  8.435659  Washington   \n1960   USA_Louisiana_None2021-06-16  8.414929   Louisiana   \n1961  USA_Washington_None2021-06-16  8.386045  Washington   \n1962   USA_Minnesota_None2021-06-16  8.332916   Minnesota   \n1963    USA_Colorado_None2021-06-16  8.447602    Colorado   \n1964    USA_Colorado_None2021-06-17  8.447602    Colorado   \n1965   USA_Louisiana_None2021-06-17  8.414929   Louisiana   \n1966   USA_Minnesota_None2021-06-17  8.332916   Minnesota   \n1967  USA_Washington_None2021-06-17  8.386045  Washington   \n1968    USA_Colorado_None2021-06-18  8.387950    Colorado   \n1969   USA_Minnesota_None2021-06-18  8.447602   Minnesota   \n1970  USA_Washington_None2021-06-18  8.435659  Washington   \n1971   USA_Louisiana_None2021-06-18  8.366340   Louisiana   \n1972    USA_Colorado_None2021-06-19  8.447602    Colorado   \n1973   USA_Louisiana_None2021-06-19  8.414929   Louisiana   \n1974   USA_Minnesota_None2021-06-19  8.332916   Minnesota   \n1975  USA_Washington_None2021-06-19  8.435659  Washington   \n1976    USA_Colorado_None2021-06-20  8.447602    Colorado   \n1977   USA_Louisiana_None2021-06-20  8.366340   Louisiana   \n1978   USA_Minnesota_None2021-06-20  8.332916   Minnesota   \n1979  USA_Washington_None2021-06-20  8.435659  Washington   \n1980  USA_Washington_None2021-06-21  8.386045  Washington   \n1981    USA_Colorado_None2021-06-21  8.447602    Colorado   \n1982   USA_Minnesota_None2021-06-21  8.332916   Minnesota   \n1983   USA_Louisiana_None2021-06-21  8.471187   Louisiana   \n1984   USA_Minnesota_None2021-06-22  8.447602   Minnesota   \n1985  USA_Washington_None2021-06-22  8.386045  Washington   \n1986    USA_Colorado_None2021-06-22  8.447602    Colorado   \n1987   USA_Louisiana_None2021-06-22  8.471187   Louisiana   \n1988   USA_Minnesota_None2021-06-23  8.474809   Minnesota   \n1989    USA_Colorado_None2021-06-23  8.447602    Colorado   \n1990  USA_Washington_None2021-06-23  8.428698  Washington   \n1991   USA_Louisiana_None2021-06-23  8.366340   Louisiana   \n1992  USA_Washington_None2021-06-24  8.435659  Washington   \n1993   USA_Minnesota_None2021-06-24  8.332916   Minnesota   \n1994    USA_Colorado_None2021-06-24  8.414929    Colorado   \n1995   USA_Louisiana_None2021-06-24  8.414929   Louisiana   \n1996   USA_Minnesota_None2021-06-25  8.332916   Minnesota   \n1997   USA_Louisiana_None2021-06-25  8.471187   Louisiana   \n1998    USA_Colorado_None2021-06-25  8.447602    Colorado   \n1999  USA_Washington_None2021-06-25  8.386045  Washington   \n\n      confirmed_numIncrease       date  \n1940                    930 2021-06-11  \n1941                    161 2021-06-11  \n1942                    639 2021-06-11  \n1943                    228 2021-06-11  \n1944                    604 2021-06-12  \n1945                      0 2021-06-12  \n1946                    148 2021-06-12  \n1947                    712 2021-06-12  \n1948                      0 2021-06-13  \n1949                    473 2021-06-13  \n1950                      0 2021-06-13  \n1951                    146 2021-06-13  \n1952                    554 2021-06-14  \n1953                    237 2021-06-14  \n1954                    116 2021-06-14  \n1955                    556 2021-06-14  \n1956                     90 2021-06-15  \n1957                    559 2021-06-15  \n1958                    391 2021-06-15  \n1959                    433 2021-06-15  \n1960                    325 2021-06-16  \n1961                    531 2021-06-16  \n1962                     86 2021-06-16  \n1963                    464 2021-06-16  \n1964                    543 2021-06-17  \n1965                    335 2021-06-17  \n1966                    132 2021-06-17  \n1967                    438 2021-06-17  \n1968                    474 2021-06-18  \n1969                    107 2021-06-18  \n1970                    558 2021-06-18  \n1971                    326 2021-06-18  \n1972                    396 2021-06-19  \n1973                      0 2021-06-19  \n1974                    115 2021-06-19  \n1975                    521 2021-06-19  \n1976                    272 2021-06-20  \n1977                      0 2021-06-20  \n1978                    103 2021-06-20  \n1979                      0 2021-06-20  \n1980                    521 2021-06-21  \n1981                    222 2021-06-21  \n1982                     99 2021-06-21  \n1983                    686 2021-06-21  \n1984                     79 2021-06-22  \n1985                    418 2021-06-22  \n1986                    383 2021-06-22  \n1987                    325 2021-06-22  \n1988                     71 2021-06-23  \n1989                    504 2021-06-23  \n1990                    803 2021-06-23  \n1991                    482 2021-06-23  \n1992                    546 2021-06-24  \n1993                    121 2021-06-24  \n1994                    592 2021-06-24  \n1995                    365 2021-06-24  \n1996                     92 2021-06-25  \n1997                    210 2021-06-25  \n1998                    402 2021-06-25  \n1999                    492 2021-06-25  ",
      "text/html": "<div>\n<style scoped>\n    .dataframe tbody tr th:only-of-type {\n        vertical-align: middle;\n    }\n\n    .dataframe tbody tr th {\n        vertical-align: top;\n    }\n\n    .dataframe thead th {\n        text-align: right;\n    }\n</style>\n<table border=\"1\" class=\"dataframe\">\n  <thead>\n    <tr style=\"text-align: right;\">\n      <th></th>\n      <th>_id</th>\n      <th>_score</th>\n      <th>admin1</th>\n      <th>confirmed_numIncrease</th>\n      <th>date</th>\n    </tr>\n  </thead>\n  <tbody>\n    <tr>\n      <th>1940</th>\n      <td>USA_Colorado_None2021-06-11</td>\n      <td>8.414929</td>\n      <td>Colorado</td>\n      <td>930</td>\n      <td>2021-06-11</td>\n    </tr>\n    <tr>\n      <th>1941</th>\n      <td>USA_Minnesota_None2021-06-11</td>\n      <td>8.332916</td>\n      <td>Minnesota</td>\n      <td>161</td>\n      <td>2021-06-11</td>\n    </tr>\n    <tr>\n      <th>1942</th>\n      <td>USA_Washington_None2021-06-11</td>\n      <td>8.435659</td>\n      <td>Washington</td>\n      <td>639</td>\n      <td>2021-06-11</td>\n    </tr>\n    <tr>\n      <th>1943</th>\n      <td>USA_Louisiana_None2021-06-11</td>\n      <td>8.414929</td>\n      <td>Louisiana</td>\n      <td>228</td>\n      <td>2021-06-11</td>\n    </tr>\n    <tr>\n      <th>1944</th>\n      <td>USA_Colorado_None2021-06-12</td>\n      <td>8.447602</td>\n      <td>Colorado</td>\n      <td>604</td>\n      <td>2021-06-12</td>\n    </tr>\n    <tr>\n      <th>1945</th>\n      <td>USA_Louisiana_None2021-06-12</td>\n      <td>8.471187</td>\n      <td>Louisiana</td>\n      <td>0</td>\n      <td>2021-06-12</td>\n    </tr>\n    <tr>\n      <th>1946</th>\n      <td>USA_Minnesota_None2021-06-12</td>\n      <td>8.474809</td>\n      <td>Minnesota</td>\n      <td>148</td>\n      <td>2021-06-12</td>\n    </tr>\n    <tr>\n      <th>1947</th>\n      <td>USA_Washington_None2021-06-12</td>\n      <td>8.435659</td>\n      <td>Washington</td>\n      <td>712</td>\n      <td>2021-06-12</td>\n    </tr>\n    <tr>\n      <th>1948</th>\n      <td>USA_Louisiana_None2021-06-13</td>\n      <td>8.471187</td>\n      <td>Louisiana</td>\n      <td>0</td>\n      <td>2021-06-13</td>\n    </tr>\n    <tr>\n      <th>1949</th>\n      <td>USA_Colorado_None2021-06-13</td>\n      <td>8.387950</td>\n      <td>Colorado</td>\n      <td>473</td>\n      <td>2021-06-13</td>\n    </tr>\n    <tr>\n      <th>1950</th>\n      <td>USA_Washington_None2021-06-13</td>\n      <td>8.386045</td>\n      <td>Washington</td>\n      <td>0</td>\n      <td>2021-06-13</td>\n    </tr>\n    <tr>\n      <th>1951</th>\n      <td>USA_Minnesota_None2021-06-13</td>\n      <td>8.447602</td>\n      <td>Minnesota</td>\n      <td>146</td>\n      <td>2021-06-13</td>\n    </tr>\n    <tr>\n      <th>1952</th>\n      <td>USA_Louisiana_None2021-06-14</td>\n      <td>8.366340</td>\n      <td>Louisiana</td>\n      <td>554</td>\n      <td>2021-06-14</td>\n    </tr>\n    <tr>\n      <th>1953</th>\n      <td>USA_Colorado_None2021-06-14</td>\n      <td>8.447602</td>\n      <td>Colorado</td>\n      <td>237</td>\n      <td>2021-06-14</td>\n    </tr>\n    <tr>\n      <th>1954</th>\n      <td>USA_Minnesota_None2021-06-14</td>\n      <td>8.447602</td>\n      <td>Minnesota</td>\n      <td>116</td>\n      <td>2021-06-14</td>\n    </tr>\n    <tr>\n      <th>1955</th>\n      <td>USA_Washington_None2021-06-14</td>\n      <td>8.435659</td>\n      <td>Washington</td>\n      <td>556</td>\n      <td>2021-06-14</td>\n    </tr>\n    <tr>\n      <th>1956</th>\n      <td>USA_Minnesota_None2021-06-15</td>\n      <td>8.447602</td>\n      <td>Minnesota</td>\n      <td>90</td>\n      <td>2021-06-15</td>\n    </tr>\n    <tr>\n      <th>1957</th>\n      <td>USA_Louisiana_None2021-06-15</td>\n      <td>8.414929</td>\n      <td>Louisiana</td>\n      <td>559</td>\n      <td>2021-06-15</td>\n    </tr>\n    <tr>\n      <th>1958</th>\n      <td>USA_Colorado_None2021-06-15</td>\n      <td>8.414929</td>\n      <td>Colorado</td>\n      <td>391</td>\n      <td>2021-06-15</td>\n    </tr>\n    <tr>\n      <th>1959</th>\n      <td>USA_Washington_None2021-06-15</td>\n      <td>8.435659</td>\n      <td>Washington</td>\n      <td>433</td>\n      <td>2021-06-15</td>\n    </tr>\n    <tr>\n      <th>1960</th>\n      <td>USA_Louisiana_None2021-06-16</td>\n      <td>8.414929</td>\n      <td>Louisiana</td>\n      <td>325</td>\n      <td>2021-06-16</td>\n    </tr>\n    <tr>\n      <th>1961</th>\n      <td>USA_Washington_None2021-06-16</td>\n      <td>8.386045</td>\n      <td>Washington</td>\n      <td>531</td>\n      <td>2021-06-16</td>\n    </tr>\n    <tr>\n      <th>1962</th>\n      <td>USA_Minnesota_None2021-06-16</td>\n      <td>8.332916</td>\n      <td>Minnesota</td>\n      <td>86</td>\n      <td>2021-06-16</td>\n    </tr>\n    <tr>\n      <th>1963</th>\n      <td>USA_Colorado_None2021-06-16</td>\n      <td>8.447602</td>\n      <td>Colorado</td>\n      <td>464</td>\n      <td>2021-06-16</td>\n    </tr>\n    <tr>\n      <th>1964</th>\n      <td>USA_Colorado_None2021-06-17</td>\n      <td>8.447602</td>\n      <td>Colorado</td>\n      <td>543</td>\n      <td>2021-06-17</td>\n    </tr>\n    <tr>\n      <th>1965</th>\n      <td>USA_Louisiana_None2021-06-17</td>\n      <td>8.414929</td>\n      <td>Louisiana</td>\n      <td>335</td>\n      <td>2021-06-17</td>\n    </tr>\n    <tr>\n      <th>1966</th>\n      <td>USA_Minnesota_None2021-06-17</td>\n      <td>8.332916</td>\n      <td>Minnesota</td>\n      <td>132</td>\n      <td>2021-06-17</td>\n    </tr>\n    <tr>\n      <th>1967</th>\n      <td>USA_Washington_None2021-06-17</td>\n      <td>8.386045</td>\n      <td>Washington</td>\n      <td>438</td>\n      <td>2021-06-17</td>\n    </tr>\n    <tr>\n      <th>1968</th>\n      <td>USA_Colorado_None2021-06-18</td>\n      <td>8.387950</td>\n      <td>Colorado</td>\n      <td>474</td>\n      <td>2021-06-18</td>\n    </tr>\n    <tr>\n      <th>1969</th>\n      <td>USA_Minnesota_None2021-06-18</td>\n      <td>8.447602</td>\n      <td>Minnesota</td>\n      <td>107</td>\n      <td>2021-06-18</td>\n    </tr>\n    <tr>\n      <th>1970</th>\n      <td>USA_Washington_None2021-06-18</td>\n      <td>8.435659</td>\n      <td>Washington</td>\n      <td>558</td>\n      <td>2021-06-18</td>\n    </tr>\n    <tr>\n      <th>1971</th>\n      <td>USA_Louisiana_None2021-06-18</td>\n      <td>8.366340</td>\n      <td>Louisiana</td>\n      <td>326</td>\n      <td>2021-06-18</td>\n    </tr>\n    <tr>\n      <th>1972</th>\n      <td>USA_Colorado_None2021-06-19</td>\n      <td>8.447602</td>\n      <td>Colorado</td>\n      <td>396</td>\n      <td>2021-06-19</td>\n    </tr>\n    <tr>\n      <th>1973</th>\n      <td>USA_Louisiana_None2021-06-19</td>\n      <td>8.414929</td>\n      <td>Louisiana</td>\n      <td>0</td>\n      <td>2021-06-19</td>\n    </tr>\n    <tr>\n      <th>1974</th>\n      <td>USA_Minnesota_None2021-06-19</td>\n      <td>8.332916</td>\n      <td>Minnesota</td>\n      <td>115</td>\n      <td>2021-06-19</td>\n    </tr>\n    <tr>\n      <th>1975</th>\n      <td>USA_Washington_None2021-06-19</td>\n      <td>8.435659</td>\n      <td>Washington</td>\n      <td>521</td>\n      <td>2021-06-19</td>\n    </tr>\n    <tr>\n      <th>1976</th>\n      <td>USA_Colorado_None2021-06-20</td>\n      <td>8.447602</td>\n      <td>Colorado</td>\n      <td>272</td>\n      <td>2021-06-20</td>\n    </tr>\n    <tr>\n      <th>1977</th>\n      <td>USA_Louisiana_None2021-06-20</td>\n      <td>8.366340</td>\n      <td>Louisiana</td>\n      <td>0</td>\n      <td>2021-06-20</td>\n    </tr>\n    <tr>\n      <th>1978</th>\n      <td>USA_Minnesota_None2021-06-20</td>\n      <td>8.332916</td>\n      <td>Minnesota</td>\n      <td>103</td>\n      <td>2021-06-20</td>\n    </tr>\n    <tr>\n      <th>1979</th>\n      <td>USA_Washington_None2021-06-20</td>\n      <td>8.435659</td>\n      <td>Washington</td>\n      <td>0</td>\n      <td>2021-06-20</td>\n    </tr>\n    <tr>\n      <th>1980</th>\n      <td>USA_Washington_None2021-06-21</td>\n      <td>8.386045</td>\n      <td>Washington</td>\n      <td>521</td>\n      <td>2021-06-21</td>\n    </tr>\n    <tr>\n      <th>1981</th>\n      <td>USA_Colorado_None2021-06-21</td>\n      <td>8.447602</td>\n      <td>Colorado</td>\n      <td>222</td>\n      <td>2021-06-21</td>\n    </tr>\n    <tr>\n      <th>1982</th>\n      <td>USA_Minnesota_None2021-06-21</td>\n      <td>8.332916</td>\n      <td>Minnesota</td>\n      <td>99</td>\n      <td>2021-06-21</td>\n    </tr>\n    <tr>\n      <th>1983</th>\n      <td>USA_Louisiana_None2021-06-21</td>\n      <td>8.471187</td>\n      <td>Louisiana</td>\n      <td>686</td>\n      <td>2021-06-21</td>\n    </tr>\n    <tr>\n      <th>1984</th>\n      <td>USA_Minnesota_None2021-06-22</td>\n      <td>8.447602</td>\n      <td>Minnesota</td>\n      <td>79</td>\n      <td>2021-06-22</td>\n    </tr>\n    <tr>\n      <th>1985</th>\n      <td>USA_Washington_None2021-06-22</td>\n      <td>8.386045</td>\n      <td>Washington</td>\n      <td>418</td>\n      <td>2021-06-22</td>\n    </tr>\n    <tr>\n      <th>1986</th>\n      <td>USA_Colorado_None2021-06-22</td>\n      <td>8.447602</td>\n      <td>Colorado</td>\n      <td>383</td>\n      <td>2021-06-22</td>\n    </tr>\n    <tr>\n      <th>1987</th>\n      <td>USA_Louisiana_None2021-06-22</td>\n      <td>8.471187</td>\n      <td>Louisiana</td>\n      <td>325</td>\n      <td>2021-06-22</td>\n    </tr>\n    <tr>\n      <th>1988</th>\n      <td>USA_Minnesota_None2021-06-23</td>\n      <td>8.474809</td>\n      <td>Minnesota</td>\n      <td>71</td>\n      <td>2021-06-23</td>\n    </tr>\n    <tr>\n      <th>1989</th>\n      <td>USA_Colorado_None2021-06-23</td>\n      <td>8.447602</td>\n      <td>Colorado</td>\n      <td>504</td>\n      <td>2021-06-23</td>\n    </tr>\n    <tr>\n      <th>1990</th>\n      <td>USA_Washington_None2021-06-23</td>\n      <td>8.428698</td>\n      <td>Washington</td>\n      <td>803</td>\n      <td>2021-06-23</td>\n    </tr>\n    <tr>\n      <th>1991</th>\n      <td>USA_Louisiana_None2021-06-23</td>\n      <td>8.366340</td>\n      <td>Louisiana</td>\n      <td>482</td>\n      <td>2021-06-23</td>\n    </tr>\n    <tr>\n      <th>1992</th>\n      <td>USA_Washington_None2021-06-24</td>\n      <td>8.435659</td>\n      <td>Washington</td>\n      <td>546</td>\n      <td>2021-06-24</td>\n    </tr>\n    <tr>\n      <th>1993</th>\n      <td>USA_Minnesota_None2021-06-24</td>\n      <td>8.332916</td>\n      <td>Minnesota</td>\n      <td>121</td>\n      <td>2021-06-24</td>\n    </tr>\n    <tr>\n      <th>1994</th>\n      <td>USA_Colorado_None2021-06-24</td>\n      <td>8.414929</td>\n      <td>Colorado</td>\n      <td>592</td>\n      <td>2021-06-24</td>\n    </tr>\n    <tr>\n      <th>1995</th>\n      <td>USA_Louisiana_None2021-06-24</td>\n      <td>8.414929</td>\n      <td>Louisiana</td>\n      <td>365</td>\n      <td>2021-06-24</td>\n    </tr>\n    <tr>\n      <th>1996</th>\n      <td>USA_Minnesota_None2021-06-25</td>\n      <td>8.332916</td>\n      <td>Minnesota</td>\n      <td>92</td>\n      <td>2021-06-25</td>\n    </tr>\n    <tr>\n      <th>1997</th>\n      <td>USA_Louisiana_None2021-06-25</td>\n      <td>8.471187</td>\n      <td>Louisiana</td>\n      <td>210</td>\n      <td>2021-06-25</td>\n    </tr>\n    <tr>\n      <th>1998</th>\n      <td>USA_Colorado_None2021-06-25</td>\n      <td>8.447602</td>\n      <td>Colorado</td>\n      <td>402</td>\n      <td>2021-06-25</td>\n    </tr>\n    <tr>\n      <th>1999</th>\n      <td>USA_Washington_None2021-06-25</td>\n      <td>8.386045</td>\n      <td>Washington</td>\n      <td>492</td>\n      <td>2021-06-25</td>\n    </tr>\n  </tbody>\n</table>\n</div>"
     },
     "execution_count": 9,
     "metadata": {},
     "output_type": "execute_result"
    }
   ],
   "source": [
    "data.iloc[1000:2000, :].tail(60)"
   ],
   "metadata": {
    "collapsed": false,
    "pycharm": {
     "name": "#%%\n"
    }
   }
  },
  {
   "cell_type": "code",
   "execution_count": null,
   "outputs": [],
   "source": [
    "(data.iloc[0:1000, :].reset_index(drop=True, inplace=False) == data.iloc[1000:2000, :].reset_index(drop=True, inplace=False))"
   ],
   "metadata": {
    "collapsed": false,
    "pycharm": {
     "name": "#%%\n"
    }
   }
  },
  {
   "cell_type": "markdown",
   "source": [
    "### Below is the distribution of locations when all data is collected (when collect_all = True)"
   ],
   "metadata": {
    "collapsed": false,
    "pycharm": {
     "name": "#%% md\n"
    }
   }
  },
  {
   "cell_type": "code",
   "execution_count": null,
   "outputs": [],
   "source": [
    "# base feature viz // amount of new covid cases\n",
    "base = alt.Chart(data).mark_line().encode(\n",
    "    x='date:T',\n",
    "    y='confirmed_numIncrease:Q',\n",
    "    color='admin1:N'\n",
    ").interactive()"
   ],
   "metadata": {
    "collapsed": false,
    "pycharm": {
     "name": "#%%\n"
    }
   }
  },
  {
   "cell_type": "code",
   "execution_count": null,
   "outputs": [],
   "source": [
    "# rules // added dates of popular tourism dates\n",
    "rules = alt.Chart(pd.DataFrame({\n",
    "  'date': ['2022-9-01', '2021-09-01', '2020-09-01'],\n",
    "  'color': ['black', 'black', 'black']\n",
    "})).mark_rule().encode(\n",
    "  x='date:T',\n",
    "  color=alt.Color('color:N', scale=None)\n",
    ")"
   ],
   "metadata": {
    "collapsed": false,
    "pycharm": {
     "name": "#%%\n"
    }
   }
  },
  {
   "cell_type": "code",
   "execution_count": null,
   "outputs": [],
   "source": [
    "rules + outbreak_tools.plot_increase(states)"
   ],
   "metadata": {
    "collapsed": false,
    "pycharm": {
     "name": "#%%\n"
    }
   }
  },
  {
   "cell_type": "code",
   "execution_count": null,
   "outputs": [],
   "source": [
    "type(base) == alt.vegalite.v4.api.Chart"
   ],
   "metadata": {
    "collapsed": false,
    "pycharm": {
     "name": "#%%\n"
    }
   }
  },
  {
   "cell_type": "code",
   "execution_count": null,
   "outputs": [],
   "source": [
    "location = 'USA_US-CA'\n",
    "out = outbreak_data.get_outbreak_data('covid19/query',\n",
    "                                f'location_id:{location}&sort=date&fields=date,confirmed_numIncrease,admin1&{outbreak_data.nopage}')"
   ],
   "metadata": {
    "collapsed": false,
    "pycharm": {
     "name": "#%%\n"
    }
   }
  },
  {
   "cell_type": "code",
   "execution_count": null,
   "outputs": [],
   "source": [
    "out = outbreak_data.cases_by_location('GBR')"
   ],
   "metadata": {
    "collapsed": false,
    "pycharm": {
     "name": "#%%\n"
    }
   }
  },
  {
   "cell_type": "code",
   "execution_count": null,
   "outputs": [],
   "source": [
    "out"
   ],
   "metadata": {
    "collapsed": false,
    "pycharm": {
     "name": "#%%\n"
    }
   }
  },
  {
   "cell_type": "code",
   "execution_count": null,
   "outputs": [],
   "source": [],
   "metadata": {
    "collapsed": false,
    "pycharm": {
     "name": "#%%\n"
    }
   }
  }
 ],
 "metadata": {
  "kernelspec": {
   "display_name": "Python 3",
   "language": "python",
   "name": "python3"
  },
  "language_info": {
   "codemirror_mode": {
    "name": "ipython",
    "version": 3
   },
   "file_extension": ".py",
   "mimetype": "text/x-python",
   "name": "python",
   "nbconvert_exporter": "python",
   "pygments_lexer": "ipython3",
   "version": "3.7.10"
  }
 },
 "nbformat": 4,
 "nbformat_minor": 5
}
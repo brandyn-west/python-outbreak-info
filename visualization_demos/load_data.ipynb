{
 "cells": [
  {
   "cell_type": "code",
   "execution_count": 1,
   "id": "901f2f22",
   "metadata": {},
   "outputs": [],
   "source": [
    "import outbreak_common"
   ]
  },
  {
   "cell_type": "code",
   "execution_count": 4,
   "id": "8b7c3edb",
   "metadata": {},
   "outputs": [],
   "source": [
    "co = outbreak_common.cases_by_location(\"USA_US-CO\")"
   ]
  },
  {
   "cell_type": "code",
   "execution_count": 5,
   "id": "00e6c768",
   "metadata": {},
   "outputs": [
    {
     "data": {
      "text/html": [
       "<div>\n",
       "<style scoped>\n",
       "    .dataframe tbody tr th:only-of-type {\n",
       "        vertical-align: middle;\n",
       "    }\n",
       "\n",
       "    .dataframe tbody tr th {\n",
       "        vertical-align: top;\n",
       "    }\n",
       "\n",
       "    .dataframe thead th {\n",
       "        text-align: right;\n",
       "    }\n",
       "</style>\n",
       "<table border=\"1\" class=\"dataframe\">\n",
       "  <thead>\n",
       "    <tr style=\"text-align: right;\">\n",
       "      <th></th>\n",
       "      <th>_id</th>\n",
       "      <th>_score</th>\n",
       "      <th>confirmed_numIncrease</th>\n",
       "      <th>date</th>\n",
       "    </tr>\n",
       "  </thead>\n",
       "  <tbody>\n",
       "    <tr>\n",
       "      <th>0</th>\n",
       "      <td>USA_Colorado_None2020-02-29</td>\n",
       "      <td>8.449377</td>\n",
       "      <td>0</td>\n",
       "      <td>2020-02-29</td>\n",
       "    </tr>\n",
       "    <tr>\n",
       "      <th>1</th>\n",
       "      <td>USA_Colorado_None2020-03-01</td>\n",
       "      <td>8.449377</td>\n",
       "      <td>0</td>\n",
       "      <td>2020-03-01</td>\n",
       "    </tr>\n",
       "    <tr>\n",
       "      <th>2</th>\n",
       "      <td>USA_Colorado_None2020-03-04</td>\n",
       "      <td>8.449377</td>\n",
       "      <td>0</td>\n",
       "      <td>2020-03-04</td>\n",
       "    </tr>\n",
       "    <tr>\n",
       "      <th>3</th>\n",
       "      <td>USA_Colorado_None2020-03-06</td>\n",
       "      <td>8.449377</td>\n",
       "      <td>6</td>\n",
       "      <td>2020-03-06</td>\n",
       "    </tr>\n",
       "    <tr>\n",
       "      <th>4</th>\n",
       "      <td>USA_Colorado_None2020-03-07</td>\n",
       "      <td>8.449377</td>\n",
       "      <td>0</td>\n",
       "      <td>2020-03-07</td>\n",
       "    </tr>\n",
       "  </tbody>\n",
       "</table>\n",
       "</div>"
      ],
      "text/plain": [
       "                           _id    _score  confirmed_numIncrease        date\n",
       "0  USA_Colorado_None2020-02-29  8.449377                      0  2020-02-29\n",
       "1  USA_Colorado_None2020-03-01  8.449377                      0  2020-03-01\n",
       "2  USA_Colorado_None2020-03-04  8.449377                      0  2020-03-04\n",
       "3  USA_Colorado_None2020-03-06  8.449377                      6  2020-03-06\n",
       "4  USA_Colorado_None2020-03-07  8.449377                      0  2020-03-07"
      ]
     },
     "execution_count": 5,
     "metadata": {},
     "output_type": "execute_result"
    }
   ],
   "source": [
    "co.head()"
   ]
  },
  {
   "cell_type": "code",
   "execution_count": 10,
   "id": "b8498a6c",
   "metadata": {},
   "outputs": [],
   "source": [
    "def get_multiple_states(state_list):\n",
    "    out = []\n",
    "    for state in state_list:\n",
    "        data = outbreak_common.cases_by_location(state)\n",
    "        out.append(data)\n",
    "    return pd.concat(out)"
   ]
  },
  {
   "cell_type": "code",
   "execution_count": null,
   "id": "473753f0",
   "metadata": {},
   "outputs": [],
   "source": [
    "wild_states = "
   ]
  }
 ],
 "metadata": {
  "kernelspec": {
   "display_name": "Python 3",
   "language": "python",
   "name": "python3"
  },
  "language_info": {
   "codemirror_mode": {
    "name": "ipython",
    "version": 3
   },
   "file_extension": ".py",
   "mimetype": "text/x-python",
   "name": "python",
   "nbconvert_exporter": "python",
   "pygments_lexer": "ipython3",
   "version": "3.7.10"
  }
 },
 "nbformat": 4,
 "nbformat_minor": 5
}
